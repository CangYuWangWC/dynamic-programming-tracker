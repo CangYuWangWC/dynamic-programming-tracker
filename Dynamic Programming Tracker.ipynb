{
 "cells": [
  {
   "cell_type": "markdown",
   "metadata": {},
   "source": [
    "# Dynamic Programming Tracker for Hands\n",
    "Implementation of  [Dreuw06 - Tracking Using Dynamic Programming\n",
    "for Appearance-Based Sign Language Recognition](http://thomas.deselaers.de/publications/papers/dreuw_fg06.pdf)"
   ]
  },
  {
   "cell_type": "markdown",
   "metadata": {},
   "source": [
    "## Imports"
   ]
  },
  {
   "cell_type": "code",
   "execution_count": null,
   "metadata": {},
   "outputs": [],
   "source": [
    "\n",
    "%load_ext autoreload\n",
    "\n",
    "%autoreload 2"
   ]
  },
  {
   "cell_type": "code",
   "execution_count": 18,
   "metadata": {},
   "outputs": [],
   "source": [
    "import os\n",
    "import numpy as np\n",
    "import skimage.io\n",
    "import skimage\n",
    "from scipy import ndimage\n",
    "from skimage.draw import circle_perimeter_aa,circle\n",
    "import matplotlib.pyplot as plt\n",
    "import matplotlib\n",
    "import matplotlib.animation as anim\n",
    "\n",
    "from scipy.stats import multivariate_normal\n",
    "import numba\n",
    "import skvideo.io\n",
    "import skvideo.datasets\n",
    "\n",
    "import itertools\n",
    "\n",
    "import scoring\n",
    "import util\n",
    "\n",
    "\n"
   ]
  },
  {
   "cell_type": "markdown",
   "metadata": {},
   "source": [
    "## Configuration\n"
   ]
  },
  {
   "cell_type": "code",
   "execution_count": 5,
   "metadata": {},
   "outputs": [
    {
     "name": "stdout",
     "output_type": "stream",
     "text": [
      "Original video shape: (54, 368, 480, 3)\n"
     ]
    }
   ],
   "source": [
    "test_path='test_data/All_Blacks.5846.main_glosses.mb.r480x360.mp4'\n",
    "output_path='tmp/output/'\n",
    "filename =os.path.basename(test_path)\n",
    "tracked_video_path= os.path.join(output_path,filename)\n",
    "debug_video_path=os.path.join(output_path,\"_debug\".join(os.path.splitext(filename)))\n",
    "data = skvideo.io.ffprobe(test_path)['video']\n",
    "rate = data['@r_frame_rate']\n",
    "\n",
    "video = skvideo.io.vread(test_path).astype(float)\n",
    "\n",
    "print(\"Original video shape: %s\" % str(video.shape))\n",
    "video=video[0::1,:,:,:]\n",
    "video_rgb_to_hsv(video)\n",
    "\n",
    "T,h,w,c=video.shape\n"
   ]
  },
  {
   "cell_type": "code",
   "execution_count": 16,
   "metadata": {},
   "outputs": [
    {
     "name": "stdout",
     "output_type": "stream",
     "text": [
      "(53, 368, 480)\n",
      "Movement score treshold: 0.016295\n",
      "Pixel score treshold: 0.024963\n"
     ]
    }
   ],
   "source": [
    "def jump_penalty_euclidean(p1,p2):\n",
    "  d=p1-p2\n",
    "  return np.sum(d**2)\n",
    "\n",
    "\n",
    "movement_weight=0.7\n",
    "scorers=[scoring.manhattan_movement_score,scoring.skin_pixel_scorer]\n",
    "scorers_labels=['manhattan_movement','pixel']\n",
    "scorers_weights=[movement_weight,1-movement_weight]\n",
    "local_score,scores=calculate_local_score(video,scorers,scorers_weights)"
   ]
  },
  {
   "cell_type": "markdown",
   "metadata": {},
   "source": [
    "## Test model"
   ]
  },
  {
   "cell_type": "code",
   "execution_count": 23,
   "metadata": {
    "scrolled": true
   },
   "outputs": [
    {
     "name": "stdout",
     "output_type": "stream",
     "text": [
      "Calculating score for frame:\n",
      "1/53 - 2/53 - 3/53 - 4/53 - 5/53 - 6/53 - 7/53 - 8/53 - 9/53 - 10/53 - 11/53 - 12/53 - 13/53 - 14/53 - 15/53 - 16/53 - 17/53 - 18/53 - 19/53 - 20/53 - 21/53 - 22/53 - 23/53 - 24/53 - 25/53 - 26/53 - 27/53 - 28/53 - 29/53 - 30/53 - 31/53 - 32/53 - 33/53 - 34/53 - 35/53 - 36/53 - 37/53 - 38/53 - 39/53 - 40/53 - 41/53 - 42/53 - 43/53 - 44/53 - 45/53 - 46/53 - 47/53 - 48/53 - 49/53 - 50/53 - 51/53 - 52/53 - 53/53 - Tracking coordinates\n",
      "[[342 342 342 342 342 319 294 303 278 255 235 226 221 217 214 214 214 214\n",
      "  214 214 214 214 214 215 216 217 218 219 220 221 222 223 224 225 226 227\n",
      "  229 234 241 250 263 282 295 279 300 320 338 338 337 336 335 334 334 334]\n",
      " [207 207 207 207 207 219 235 236 239 244 245 246 246 240 234 233 233 233\n",
      "  233 233 233 233 233 233 233 233 233 233 233 233 233 233 233 234 235 236\n",
      "  236 237 238 236 233 231 230 231 226 214 209 209 209 209 210 211 211 211]]\n"
     ]
    }
   ],
   "source": [
    "class DPTracker:  \n",
    "\n",
    "  def __init__(self):\n",
    "    pass\n",
    "\n",
    "  def backtrack_path(self,backtracking_path,score):\n",
    "    Tm,h,w,dim_indices=backtracking_path.shape\n",
    "    T=Tm+1\n",
    "    path=np.zeros((T,2),dtype=int) # 2 => (x,y)\n",
    "    best_index_last_frame = np.argmax(score[-1,:,:])\n",
    "    x,y= np.unravel_index(best_index_last_frame , score[-1,:,:].shape)\n",
    "    path[-1,:]=np.array([x,y])\n",
    "    for t in reversed(range(T-1)):\n",
    "      x,y= tuple(path[t+1,:])\n",
    "      path[t, :] = backtracking_path[t,x,y,:]\n",
    "    return path\n",
    "\n",
    "  @numba.jit\n",
    "  def track(self,video,local_score,jump_penalty_matrix):\n",
    "    video = ndimage.gaussian_filter(video, sigma=(0, 2, 2, 0), order=0)\n",
    "    T,h,w,c=video.shape\n",
    "    self.backtracking_path=np.zeros((T-1,h,w,2),dtype=int) # 2 => (x,y) for T-1\n",
    "    self.score=np.zeros((T,h,w))\n",
    "    n=int((jump_penalty_matrix.shape[0]-1)/2)\n",
    "    n2=n+1\n",
    "    \n",
    "\n",
    "    self.score[0,:,:]=local_score[0,:,:]\n",
    "    self.local_score =local_score\n",
    "        \n",
    "    initial_values=np.zeros((h,w,2))\n",
    "\n",
    "    for i in range(h):\n",
    "      for j in range(w):\n",
    "        initial_values[i,j,:]=np.array([i,j])\n",
    "    self.backtracking_path[:,:,:,:]=initial_values\n",
    "    \n",
    "    print(\"Calculating score for frame:\")\n",
    "    for t in range(1,T):\n",
    "      print(\"%d/%d - \" % (t,T-1), end=\"\")\n",
    "      for i in range(n, h-n):\n",
    "        for j in range(n, w-n):\n",
    "          neighbourhood_score=self.score[t-1,i-n:i+n2,j-n:j+n2]\n",
    "          previous_score=neighbourhood_score-jump_penalty_matrix\n",
    "            \n",
    "          index=np.argmax(previous_score)\n",
    "          best_score=previous_score.flat[index]\n",
    "          relative_x,relative_y=np.unravel_index(index, jump_penalty_matrix.shape)\n",
    "          x = i + relative_x - n\n",
    "          y = j + relative_y - n\n",
    "          self.backtracking_path[t-1, i, j, 0] =x\n",
    "          self.backtracking_path[t-1, i, j, 1] =y\n",
    "          self.score[t,i,j]=self.local_score[t,i,j]+best_score #np.mean(previous_score)\n",
    "    self.path=self.backtrack_path(self.backtracking_path,self.score)\n",
    "    \n",
    "    return self.path\n",
    "\n",
    "def generate_jump_penalty_matrix(jump_penalty, neighbourhood):\n",
    "    n=neighbourhood*2+1\n",
    "    matrix=np.zeros((n,n))\n",
    "    center=np.array([neighbourhood,neighbourhood])\n",
    "    for i in range(n):\n",
    "      for j in range(n):\n",
    "        position=np.array([i,j])\n",
    "        matrix[i,j]=jump_penalty(center,position)\n",
    "    return matrix\n",
    "\n",
    "neighbourhood_size=25\n",
    "jump_penalty_weight=0.0003\n",
    "jump_penalty_matrix=jump_penalty_weight * generate_jump_penalty_matrix(jump_penalty_euclidean,neighbourhood_size)\n",
    "\n",
    "\n",
    "tracker=DPTracker()\n",
    "track_result=tracker.track(video,local_score,jump_penalty_matrix)\n",
    "\n",
    "print(\"Tracking coordinates\")\n",
    "print(track_result.T)\n"
   ]
  },
  {
   "cell_type": "markdown",
   "metadata": {},
   "source": [
    "## Save output"
   ]
  },
  {
   "cell_type": "code",
   "execution_count": 24,
   "metadata": {},
   "outputs": [],
   "source": [
    "\n",
    "def draw_tracked(video,track_result):\n",
    "  T,h,w,c = video.shape\n",
    "  image_shape=(h,w)\n",
    "  radius=5\n",
    "  color=np.array([255.0,0,0])\n",
    "  for t in range(T):\n",
    "    x,y=tuple(track_result[t,:])\n",
    "    if (x-radius>=0) and (x+radius<h) and (y-radius>=0) and (y+radius<w):\n",
    "      rr,cc=circle(x,y,radius,shape=image_shape)\n",
    "      video[t,rr,cc,:]=color\n",
    "  return video\n",
    "\n",
    "\n",
    "def generate_debug_video(video,scores,labels,output_path):\n",
    "#   FFMpegWriter= anim.writers['ffmpeg']\n",
    "  metadata=dict(title=\"Output\")\n",
    "#   writer=FFMpegWriter(fps=6,bitrate=16384*2,metadata=metadata)\n",
    "\n",
    "  columns=int(np.ceil(len(scores)/2))+1\n",
    "  f,axes=plt.subplots(2,columns,dpi=100)\n",
    "  axes =list(itertools.chain.from_iterable(axes))\n",
    "  image_ax=axes[0]\n",
    "  f.set_size_inches(10,10, True)\n",
    "  T,h,w,c=video.shape\n",
    "  base_file,ext=os.path.splitext(output_path)\n",
    "#   with writer.saving(f,debug_video_path,T):\n",
    "  cbars=[]\n",
    "  ranges=[]\n",
    "  for s in range(len(scores)):\n",
    "    ranges.append( (0,np.max(scores[s])) )\n",
    "  for t in range(T):\n",
    "    plt.suptitle(\"Frame %d/%d\" % (t,T-1))\n",
    "    image_ax.cla()\n",
    "    plot=image_ax.imshow(video[t,:,:,:])\n",
    "    \n",
    "    for s in range(len(scores)):\n",
    "      ax=axes[s+1]\n",
    "      ax.cla()\n",
    "      ax.set_title(labels[s],fontsize=10)\n",
    "    \n",
    "      data=scores[s][t,:,:]\n",
    "      vmin,vmax=ranges[s]\n",
    "      plot=ax.imshow(data,cmap='gray',vmin=vmin,vmax=vmax)  \n",
    "      if t==0:\n",
    "        cbar=f.colorbar(plot, ax=ax)\n",
    "        cbar.ax.tick_params(labelsize=10)\n",
    "        cbar_ticks = np.linspace(vmin,vmax, num=10, endpoint=True)\n",
    "        cbar.set_ticks(cbar_ticks)\n",
    "        cbars.append(cbar)\n",
    "#       plot.set_clim([data.min(), data.max()])\n",
    "#       cbar_ticks = np.linspace(data.min(), data.max(), num=10, endpoint=True)\n",
    "#       cbars[s].set_ticks(cbar_ticks) \n",
    "#       plot.autoscale()\n",
    "    a='%s_%03d.png' % (base_file,t)\n",
    "    plt.savefig(a)\n",
    "#       writer.grab_frame()\n",
    "\n",
    "tracked_video=np.copy(video)\n",
    "video_hsv_to_rgb(tracked_video)\n",
    "tracked_video=draw_tracked(tracked_video,track_result)\n",
    "tracked_video=tracked_video.astype('short')\n",
    "show_scores=[local_score,tracker.score]+scores\n",
    "show_scores_label=['local','global']+scorers_labels\n",
    "generate_debug_video(tracked_video, show_scores,show_scores_label,debug_video_path)\n",
    "\n",
    "# skvideo.io.vwrite(tracked_video_path, tracked_video, outputdict={\n",
    "#   '-vcodec': 'libx264',\n",
    "#   '-pix_fmt': 'yuv420p',\n",
    "#   '-r': rate,\n",
    "# })\n",
    "plt.close(\"all\")"
   ]
  },
  {
   "cell_type": "code",
   "execution_count": null,
   "metadata": {},
   "outputs": [],
   "source": [
    "score=tracker.local_score\n",
    "plt.imshow(score[T-2,:,:])\n",
    "plt.colorbar()\n",
    "plt.figure()\n",
    "plt.imshow(score[T-3,:,:])\n",
    "plt.colorbar()\n",
    "plt.figure()\n",
    "plt.imshow(score[T-4,:,:])\n",
    "plt.colorbar()\n",
    "plt.figure()\n",
    "plt.imshow(tracked_video[T-1,:,:,:])\n",
    "plt.colorbar()\n",
    "plt.figure()\n",
    "mean_scores=np.sum(tracker.score,axis=(1,2))\n",
    "print(mean_scores.shape)\n",
    "plt.plot(mean_scores)\n",
    "plt.show()\n"
   ]
  }
 ],
 "metadata": {
  "kernelspec": {
   "display_name": "Python 3",
   "language": "python",
   "name": "python3"
  },
  "language_info": {
   "codemirror_mode": {
    "name": "ipython",
    "version": 3
   },
   "file_extension": ".py",
   "mimetype": "text/x-python",
   "name": "python",
   "nbconvert_exporter": "python",
   "pygments_lexer": "ipython3",
   "version": "3.6.2"
  }
 },
 "nbformat": 4,
 "nbformat_minor": 2
}
